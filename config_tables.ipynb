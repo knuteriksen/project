{
 "cells": [
  {
   "cell_type": "code",
   "execution_count": null,
   "metadata": {},
   "outputs": [],
   "source": [
    "import os\n",
    "\n",
    "import pandas as pd"
   ]
  },
  {
   "cell_type": "code",
   "execution_count": null,
   "metadata": {
    "pycharm": {
     "name": "#%%\n"
    }
   },
   "outputs": [],
   "source": [
    "path_to_run_results = \"/home/knut/Documents/project/UnseededRun_results\"\n",
    "path_to_table = \"/home/knut/Documents/project/UnseededRun_results/table.csv\"\n",
    "runs = []\n",
    "\n",
    "for i in range(1, 6):\n",
    "    p1 = os.path.join(path_to_run_results, \"run\" + str(i))\n",
    "    p2 = os.path.join(path_to_run_results, \"rs\" + str(i))\n",
    "    runs.append((p1, p2))"
   ]
  },
  {
   "cell_type": "code",
   "execution_count": null,
   "metadata": {
    "pycharm": {
     "name": "#%%\n"
    }
   },
   "outputs": [],
   "source": [
    "configs = [\"train_val_config.csv\"]\n",
    "\n",
    "rs_mean = []\n",
    "bo_mean = []\n",
    "mean_diff = []\n",
    "\n",
    "rs_std = []\n",
    "bo_std = []\n",
    "std_diff = []\n",
    "\n",
    "rs_best = []\n",
    "bo_best = []\n",
    "\n",
    "for i, (bo_path, rs_path) in enumerate(runs):\n",
    "    for j in range(len(configs)):\n",
    "        bo_csv = os.path.join(bo_path, configs[j])\n",
    "        rs_csv = os.path.join(rs_path, configs[j])\n",
    "\n",
    "        bo_df = pd.read_csv(bo_csv, index_col=0)\n",
    "        rs_df = pd.read_csv(rs_csv, index_col=0)\n",
    "\n",
    "        bo_df = bo_df.rename(\n",
    "            columns={\n",
    "                \"dropout\": \"Dropout rate\",\n",
    "                \"hidden_layer_width\": \"Layer width\",\n",
    "                \"hidden_layers\": \"Hidden layers\",\n",
    "                \"l2\": \"L2 penalty\",\n",
    "                \"lr\": \"Learning rate\",\n",
    "                \"mse\": \"Test error\"\n",
    "            }\n",
    "        )\n",
    "\n",
    "        rs_df = rs_df.rename(\n",
    "            columns={\n",
    "                \"dropout\": \"Dropout rate\",\n",
    "                \"hidden_layer_width\": \"Layer width\",\n",
    "                \"hidden_layers\": \"Hidden layers\",\n",
    "                \"l2\": \"L2 penalty\",\n",
    "                \"lr\": \"Learning rate\",\n",
    "            }\n",
    "        )\n",
    "\n",
    "        bo_df = bo_df.iloc[:, :5]\n",
    "        rs_df = rs_df.iloc[:, :5]\n",
    "\n",
    "        bo_df[\"Layer width\"] = pd.to_numeric(bo_df[\"Layer width\"], downcast=\"integer\")\n",
    "        bo_df[\"Hidden layers\"] = pd.to_numeric(bo_df[\"Hidden layers\"], downcast=\"integer\")\n",
    "\n",
    "        rs_df[\"Layer width\"] = pd.to_numeric(rs_df[\"Layer width\"], downcast=\"integer\")\n",
    "        rs_df[\"Hidden layers\"] = pd.to_numeric(rs_df[\"Hidden layers\"], downcast=\"integer\")\n",
    "\n",
    "        if i < 3:\n",
    "            bo_df['Dropout rate'] = bo_df['Dropout rate'].map(lambda x: '%.1f' % x)\n",
    "            rs_df['Dropout rate'] = rs_df['Dropout rate'].map(lambda x: '%.1f' % x)\n",
    "        else:\n",
    "            bo_df['Dropout rate'] = bo_df['Dropout rate'].map(lambda x: '%.3f' % x)\n",
    "            rs_df['Dropout rate'] = rs_df['Dropout rate'].map(lambda x: '%.3f' % x)\n",
    "\n",
    "        if i < 4:\n",
    "            bo_df['L2 penalty'] = bo_df['L2 penalty'].map(lambda x: '%.3f' % x)\n",
    "            rs_df['L2 penalty'] = rs_df['L2 penalty'].map(lambda x: '%.3f' % x)\n",
    "        else:\n",
    "            bo_df['L2 penalty'] = bo_df['L2 penalty'].map(lambda x: '%.6f' % x)\n",
    "            rs_df['L2 penalty'] = rs_df['L2 penalty'].map(lambda x: '%.6f' % x)\n",
    "\n",
    "        bo_df = bo_df.reindex(\n",
    "            columns=[\"Learning rate\", \"Hidden layers\", \"Layer width\", \"Dropout rate\", \"L2 penalty\"]\n",
    "        )\n",
    "        rs_df = rs_df.reindex(\n",
    "            columns=[\"Learning rate\", \"Hidden layers\", \"Layer width\", \"Dropout rate\", \"L2 penalty\"]\n",
    "        )\n",
    "\n",
    "        print(bo_df)\n",
    "\n",
    "        bo_df.to_csv(os.path.join(path_to_run_results, f\"bo_latex_config_{i}.csv\"), index=1, float_format='%.6f')\n",
    "        rs_df.to_csv(os.path.join(path_to_run_results, f\"rs_latex_config_{i}.csv\"), index=1, float_format='%.6f')"
   ]
  }
 ],
 "metadata": {
  "kernelspec": {
   "display_name": "Python 3 (ipykernel)",
   "language": "python",
   "name": "python3"
  },
  "language_info": {
   "codemirror_mode": {
    "name": "ipython",
    "version": 3
   },
   "file_extension": ".py",
   "mimetype": "text/x-python",
   "name": "python",
   "nbconvert_exporter": "python",
   "pygments_lexer": "ipython3",
   "version": "3.8.2"
  }
 },
 "nbformat": 4,
 "nbformat_minor": 1
}