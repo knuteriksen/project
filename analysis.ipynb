{
 "cells": [
  {
   "cell_type": "markdown",
   "metadata": {
    "pycharm": {
     "name": "#%% md\n"
    }
   },
   "source": [
    "# Imports"
   ]
  },
  {
   "cell_type": "code",
   "execution_count": null,
   "metadata": {},
   "outputs": [],
   "source": [
    "import os\n",
    "import sys\n",
    "\n",
    "import pandas as pd\n",
    "import numpy as np\n",
    "import torch\n",
    "from ray.tune import Analysis\n",
    "import progressbar\n",
    "\n",
    "from rayTune_common.constants import metric, mode, ins, outs\n",
    "from rayTune_common.test import test_model\n",
    "from rayTune_common.utils import config_to_model"
   ]
  },
  {
   "cell_type": "markdown",
   "metadata": {},
   "source": [
    "# Data loaders\n"
   ]
  },
  {
   "cell_type": "code",
   "execution_count": null,
   "metadata": {
    "pycharm": {
     "name": "#%%\n"
    }
   },
   "outputs": [],
   "source": [
    "path = \"dataset/training_set.csv\"\n",
    "train_set = pd.read_csv(path, index_col=0)\n",
    "path = \"dataset/validation_set.csv\"\n",
    "val_set = pd.read_csv(path, index_col=0)\n",
    "path = \"dataset/test_set.csv\"\n",
    "test_set = pd.read_csv(path, index_col=0)\n",
    "\n",
    "def prepare_data(\n",
    "        input_cols: [],\n",
    "        output_cols: [],\n",
    "        train_batch_size: int\n",
    "):\n",
    "    \"\"\"\n",
    "    Prepares the dataset to be used for HPO\n",
    "    Converts to torch tensors and dataset loaders\n",
    "    :param input_cols: list of strings\n",
    "    :param output_cols: list of strings\n",
    "    :param train_batch_size: Batch size\n",
    "    :return:\n",
    "    :return: train_loader, x_val, y_val, val_loader, x_test, y_test\n",
    "    \"\"\"\n",
    "    # Get input and output tensors and convert them to torch tensors\n",
    "    x_val = torch.from_numpy(val_set[input_cols].values).to(torch.float)\n",
    "    y_val = torch.from_numpy(val_set[output_cols].values).to(torch.float)\n",
    "\n",
    "    # Create dataset loaders\n",
    "    # Here we specify the batch size and if the dataset should be shuffled\n",
    "    val_dataset = torch.utils.data.TensorDataset(x_val, y_val)\n",
    "    val_loader = torch.utils.data.DataLoader(val_dataset, batch_size=train_batch_size, shuffle=True)\n",
    "\n",
    "    return val_loader"
   ]
  },
  {
   "cell_type": "markdown",
   "metadata": {},
   "source": [
    "# Train on validation data as well"
   ]
  },
  {
   "cell_type": "code",
   "execution_count": null,
   "metadata": {
    "pycharm": {
     "name": "#%%\n"
    }
   },
   "outputs": [],
   "source": [
    "def train(net, config):\n",
    "    \"\"\"\n",
    "    :param config:\n",
    "    :param net: Model to train\n",
    "    :return:\n",
    "    \"\"\"\n",
    "    \n",
    "    net = net.to(net.device)\n",
    "\n",
    "    # Define loss and optimizer\n",
    "    criterion = torch.nn.MSELoss(reduction='mean')\n",
    "    optimizer = torch.optim.Adam(net.parameters(), lr=config[\"lr\"])\n",
    "\n",
    "    # Import training, validation and test data\n",
    "    val_loader = prepare_data(\n",
    "        input_cols=ins,\n",
    "        output_cols=outs,\n",
    "        train_batch_size=64\n",
    "    )\n",
    "\n",
    "    # Train Network\n",
    "    for epoch in range(100):\n",
    "        # specify that we are in training mode\n",
    "        net.train()\n",
    "\n",
    "        for inputs, labels in val_loader:\n",
    "\n",
    "            inputs, labels = inputs.to(net.device), labels.to(net.device)\n",
    "            # Zero the parameter gradients (from last iteration)\n",
    "            optimizer.zero_grad()\n",
    "\n",
    "            # Forward propagation\n",
    "            outputs = net(inputs)\n",
    "\n",
    "            # Compute cost function\n",
    "            batch_mse = criterion(outputs, labels)\n",
    "\n",
    "            reg_loss = 0\n",
    "            for param in net.parameters():\n",
    "                reg_loss += param.pow(2).sum()\n",
    "\n",
    "            cost = batch_mse + config[\"l2\"] * reg_loss\n",
    "\n",
    "            # Backward propagation to compute gradient\n",
    "            cost.backward()\n",
    "\n",
    "            # Update parameters using gradient\n",
    "            optimizer.step()\n",
    "    return net"
   ]
  },
  {
   "cell_type": "markdown",
   "metadata": {
    "pycharm": {
     "name": "#%% md\n"
    }
   },
   "source": [
    "Analyse ray tune logs"
   ]
  },
  {
   "cell_type": "code",
   "execution_count": null,
   "metadata": {
    "pycharm": {
     "name": "#%%\n"
    },
    "scrolled": true
   },
   "outputs": [],
   "source": [
    "path_to_run_results = \"/home/knut/Documents/project/UnseededRun_results\"\n",
    "list_runs = [f.path for f in os.scandir(path_to_run_results) if f.is_dir()]\n",
    "bar = progressbar.ProgressBar(maxval=10*15*100, widgets=[progressbar.Bar('=', '[', ']'), ' ', progressbar.Percentage()])\n",
    "bar.start()\n",
    "prog = 0\n",
    "for path_to_run in list_runs:\n",
    "    data = []\n",
    "    path_to_csv = os.path.join(path_to_run, \"train_val_results.csv\")\n",
    "    path_to_config_csv = os.path.join(path_to_run, \"train_val_config.csv\")\n",
    "\n",
    "    list_experiments = [f.path for f in os.scandir(path_to_run) if f.is_dir()]\n",
    "    list_experiments.sort(key=lambda x: x.split(\"_\")[-1])\n",
    "\n",
    "    for experient_number, path_to_experiment in enumerate(list_experiments):\n",
    "        # print(f\"Run: {path_to_run} -- Experiment: {experient_number} -- {path_to_experiment}\")\n",
    "        experiment_data = {}\n",
    "        best_trial_analysis = Analysis(path_to_experiment, default_metric=metric, default_mode=mode)\n",
    "        best_trial_config = best_trial_analysis.get_best_config(metric=metric, mode=mode)\n",
    "        best_trial_logdir = best_trial_analysis.get_best_logdir(metric=metric, mode=mode)\n",
    "        list_best_trial_checkpoints = [f.path for f in os.scandir(best_trial_logdir) if f.is_dir()]\n",
    "        list_best_trial_checkpoints.sort(key=lambda x: int(x.split(\"_\")[-1]))\n",
    "        best_trial_checkpoint_path = os.path.join(list_best_trial_checkpoints[-1], \"checkpoint\")\n",
    "        best_trial_model = config_to_model(config=best_trial_config, checkpoint_path=best_trial_checkpoint_path)\n",
    "        best_trial_model = train(best_trial_model, best_trial_config)\n",
    "        best_trial_mse = test_model(model=best_trial_model, batch_size=64)\n",
    "\n",
    "        list_experiment_trials = [f.path for f in os.scandir(path_to_experiment) if f.is_dir()]\n",
    "        list_experiment_trials.sort(key=lambda x: int(x.split(\"_\")[4]))\n",
    "        \n",
    "        for trial_number, path_to_trial in enumerate(list_experiment_trials):\n",
    "            list_trial_checkpoints = [f.path for f in os.scandir(path_to_trial) if f.is_dir()]\n",
    "            list_trial_checkpoints.sort(key=lambda x: int(x.split(\"_\")[-1]))\n",
    "\n",
    "            trial_checkpoint_path = os.path.join(list_trial_checkpoints[-1], \"checkpoint\")\n",
    "\n",
    "            trial_analysis = Analysis(path_to_trial, default_metric=metric, default_mode=mode)\n",
    "            trial_config = trial_analysis.get_best_config(metric=metric, mode=mode)\n",
    "\n",
    "            trial_model = config_to_model(config=trial_config, checkpoint_path=trial_checkpoint_path)\n",
    "            trial_model = train(trial_model, trial_config)\n",
    "            trial_mse = test_model(model=trial_model, batch_size=64)\n",
    "            experiment_data[trial_number] = trial_mse\n",
    "            \n",
    "            bar.update(prog+1)\n",
    "            prog += 1\n",
    "        \n",
    "        sorted_experiment_data = dict(sorted(experiment_data.items()))\n",
    "        data.append(sorted_experiment_data)\n",
    "    \n",
    "    # Convert into pandas dataframe\n",
    "    df = pd.DataFrame(data)\n",
    "\n",
    "    # Find best trial based on test mse\n",
    "    # Store the config of the best model as csv file along with test mse and trial number\n",
    "    data = []\n",
    "    column_names = 1\n",
    "    col_index_of_min = df.idxmin(axis=1)\n",
    "    value_of_min = df.min(axis=1)\n",
    "    for i in range(len(col_index_of_min)):\n",
    "        if (path_to_run[-3:-1] == \"rs\"):\n",
    "            path = os.path.join(path_to_run, \"rs_\" + str(i).rjust(3, \"0\"))\n",
    "        else:\n",
    "            path = os.path.join(path_to_run, \"xp_\" + str(i).rjust(3, \"0\"))\n",
    "        list_experiment_trials = [f.path for f in os.scandir(path) if f.is_dir()]\n",
    "        list_experiment_trials.sort(key=lambda x: int(x.split(\"_\")[4]))\n",
    "        path_to_best_test_mse = list_experiment_trials[col_index_of_min[i]]\n",
    "\n",
    "        list_trial_checkpoints = [f.path for f in os.scandir(path_to_best_test_mse) if f.is_dir()]\n",
    "        list_trial_checkpoints.sort(key=lambda x: int(x.split(\"_\")[-1]))\n",
    "        trial_checkpoint_path = os.path.join(list_trial_checkpoints[-1], \"checkpoint\")\n",
    "        trial_analysis = Analysis(path_to_best_test_mse, default_metric=metric, default_mode=mode)\n",
    "        trial_config = trial_analysis.get_best_config(metric=metric, mode=mode)\n",
    "        trial_model = config_to_model(config=trial_config, checkpoint_path=trial_checkpoint_path)\n",
    "        trial_model = train(trial_model, trial_config)\n",
    "        trial_mse = test_model(model=trial_model, batch_size=64)\n",
    "        # assert (trial_mse == value_of_min[i])\n",
    "\n",
    "        trial_config[\"mse\"] = trial_mse\n",
    "        trial_config[\"trial number\"] = col_index_of_min[i]\n",
    "\n",
    "        data.append(trial_config)\n",
    "\n",
    "    config_df = pd.DataFrame(data)\n",
    "\n",
    "    # Add mean and variance to test results\n",
    "    df[\"best\"] = df.min(axis=1)\n",
    "    mean = df.mean(axis=0)\n",
    "    var = df.var(axis=0)\n",
    "    std = df.std(axis=0)\n",
    "    df.loc[\"mean\"] = mean\n",
    "    df.loc[\"var\"] = var\n",
    "    df.loc[\"std\"] = std\n",
    "\n",
    "    # Store dataframes as csv\n",
    "    df.to_csv(path_to_csv)\n",
    "    config_df.to_csv(path_to_config_csv)\n",
    "\n",
    "bar.finish()"
   ]
  }
 ],
 "metadata": {
  "kernelspec": {
   "display_name": "Python 3 (ipykernel)",
   "language": "python",
   "name": "python3"
  },
  "language_info": {
   "codemirror_mode": {
    "name": "ipython",
    "version": 3
   },
   "file_extension": ".py",
   "mimetype": "text/x-python",
   "name": "python",
   "nbconvert_exporter": "python",
   "pygments_lexer": "ipython3",
   "version": "3.8.2"
  }
 },
 "nbformat": 4,
 "nbformat_minor": 1
}
