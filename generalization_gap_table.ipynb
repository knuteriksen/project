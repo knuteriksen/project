{
 "cells": [
  {
   "cell_type": "code",
   "execution_count": null,
   "metadata": {
    "collapsed": true
   },
   "outputs": [],
   "source": [
    "import os\n",
    "\n",
    "import pandas as pd"
   ]
  },
  {
   "cell_type": "markdown",
   "metadata": {},
   "source": [
    "# Table csv creation"
   ]
  },
  {
   "cell_type": "code",
   "execution_count": null,
   "metadata": {
    "pycharm": {
     "name": "#%%\n"
    }
   },
   "outputs": [],
   "source": [
    "path_to_run_results = \"/home/knut/Documents/project/UnseededRun_results\"\n",
    "path_to_table = \"/home/knut/Documents/project/UnseededRun_results/table.csv\"\n",
    "runs = []\n",
    "\n",
    "for i in range(1, 6):\n",
    "    p1 = os.path.join(path_to_run_results, \"run\" + str(i))\n",
    "    p2 = os.path.join(path_to_run_results, \"rs\" + str(i))\n",
    "    runs.append((p1, p2))"
   ]
  },
  {
   "cell_type": "code",
   "execution_count": null,
   "metadata": {
    "pycharm": {
     "name": "#%%\n"
    }
   },
   "outputs": [],
   "source": []
  },
  {
   "cell_type": "code",
   "execution_count": null,
   "metadata": {
    "pycharm": {
     "name": "#%%\n"
    }
   },
   "outputs": [],
   "source": [
    "results = [\"train_val_results.csv\"]\n",
    "names = [\"batch_\"]\n",
    "\n",
    "rs_mean = []\n",
    "bo_mean = []\n",
    "mean_diff = []\n",
    "\n",
    "rs_std = []\n",
    "bo_std = []\n",
    "std_diff = []\n",
    "\n",
    "rs_best = []\n",
    "bo_best = []\n",
    "\n",
    "for i, (bo_path, rs_path) in enumerate(runs):\n",
    "    for j in range(len(results)):\n",
    "        bo_csv = os.path.join(bo_path, results[j])\n",
    "        rs_csv = os.path.join(rs_path, results[j])\n",
    "\n",
    "        bo_df = pd.read_csv(bo_csv, index_col=0)\n",
    "        rs_df = pd.read_csv(rs_csv, index_col=0)\n",
    "\n",
    "        bo_best.append(bo_df.iloc[0:15, -1].to_numpy().min())\n",
    "\n",
    "        _bo_mean = bo_df.loc[\"mean\", \"best\"]\n",
    "        bo_mean.append(_bo_mean)\n",
    "\n",
    "        _bo_std = bo_df.loc[\"std\", \"best\"]\n",
    "        bo_std.append(_bo_std)\n",
    "\n",
    "        rs_best.append(rs_df.iloc[0:15, -1].to_numpy().min())\n",
    "\n",
    "        _rs_mean = rs_df.loc[\"mean\", \"best\"]\n",
    "        rs_mean.append(_rs_mean)\n",
    "\n",
    "        _rs_std = rs_df.loc[\"std\", \"best\"]\n",
    "        rs_std.append(_rs_std)\n",
    "\n",
    "        mean_diff.append((_bo_mean - _rs_mean) / _rs_mean * 100)\n",
    "        std_diff.append(((_bo_std - _rs_std) / _rs_std) * 100)\n",
    "\n",
    "data = {\n",
    "    \"RS Mean\": rs_mean,\n",
    "    \"BO Mean\": bo_mean,\n",
    "    \"Mean diff\": mean_diff,\n",
    "    \"RS Std\": rs_std,\n",
    "    \"Bo Std\": bo_std,\n",
    "    \"Std diff\": std_diff,\n",
    "    \"RS Best\": rs_best,\n",
    "    \"Bo Best\": bo_best\n",
    "}\n",
    "\n",
    "df = pd.DataFrame(data=data)\n",
    "df.to_csv(path_to_table, float_format='%.3f')"
   ]
  }
 ],
 "metadata": {
  "kernelspec": {
   "display_name": "Python 3 (ipykernel)",
   "language": "python",
   "name": "python3"
  },
  "language_info": {
   "codemirror_mode": {
    "name": "ipython",
    "version": 3
   },
   "file_extension": ".py",
   "mimetype": "text/x-python",
   "name": "python",
   "nbconvert_exporter": "python",
   "pygments_lexer": "ipython3",
   "version": "3.8.2"
  }
 },
 "nbformat": 4,
 "nbformat_minor": 1
}
