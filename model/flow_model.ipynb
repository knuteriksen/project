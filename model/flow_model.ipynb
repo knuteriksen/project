{
 "cells": [
  {
   "cell_type": "code",
   "execution_count": 1,
   "metadata": {},
   "outputs": [],
   "source": [
    "import matplotlib.pyplot as plt\n",
    "import torch\n",
    "from torch.utils.data import DataLoader\n",
    "from math import sqrt\n",
    "\n",
    "from data_preperation import prepare_data\n",
    "from constants import random_seed\n",
    "\n",
    "%matplotlib inline"
   ]
  },
  {
   "cell_type": "code",
   "execution_count": 2,
   "metadata": {
    "pycharm": {
     "name": "#%%\n"
    }
   },
   "outputs": [
    {
     "data": {
      "text/plain": [
       "<torch._C.Generator at 0x7fac0a68f930>"
      ]
     },
     "execution_count": 2,
     "metadata": {},
     "output_type": "execute_result"
    }
   ],
   "source": [
    "# We set a fixed seed for repeatability\n",
    "torch.manual_seed(random_seed)"
   ]
  },
  {
   "cell_type": "markdown",
   "metadata": {},
   "source": [
    "# Your first task as a Data Scientist\n",
    "You just started in your new job as Data Scientist at Awesome Corp. One of the customers recently had a temporary sensor failure causing the loss of very valuable flow rate data. They need an accurate estimate of the missing flow rates ASAP so that they can optimize their system. Naturally, you are given the job since you have mastered deep learning.\n",
    "\n",
    "### Here is the brief!\n",
    "\n",
    "You need to estimate the total flow of oil, gas, and water through a choke valve. The total flow rate is labeled `QTOT`. You should use all measurements that may explain the total flow. Awesome Corp has already prepared these for you in a dataset (no further preprocessing is required). The measurements (features) are labeled as follows:\n",
    "- `CHK`: choke opening - a number in [0, 1], 1 meaning fully open and 0 meaning closed\n",
    "- `PWH`: pressure upstream the choke (scaled)\n",
    "- `PDC`: pressure downstream the choke (scaled)\n",
    "- `TWH`: temperature upstream the choke (scaled)\n",
    "- `FGAS`: fraction of gas to total flow - a number in [0,1]\n",
    "- `FOIL`: fraction of water to total flow - a number in [0,1]\n",
    "\n",
    "The location of the sensors are shown in the figure below.\n",
    "\n",
    "<img src=\"../resources/well_sensors.png\">\n",
    "\n",
    "### Wait! There is one issue. The customer does not have a model for the total flow rate...\n",
    "\n",
    "A simple choke model for water flow is:\n",
    "$$QTOT = C_v(CHK) \\sqrt{\\frac{2(PWH - PDC)}{\\rho}}$$\n",
    "where $C_v(CHK)$ gives the cross-sectional area as a function of choke opening `CHK`.\n",
    "\n",
    "Unfortunately, there are complications that prevent us from using this model:\n",
    "\n",
    "1. We do not know what the correct equations are for multi-phase flow. For example, we expect gas expansions to be a factor. This factor is likely dependent on the temperature `TWH` and the amount of gas `FGAS`. Viscosity is probably a factor too, and that would depend on `FOIL`.\n",
    "2. We do not know the form of the choke $C_v$-curve.\n",
    "\n",
    "[Head scratch] Perhaps we can use a deep learning algorithm to learn a good representation of the data? Let us try to use all the available measurements to model `QTOT` using a neural network:\n",
    "$$QTOT = f_{\\theta}(CHK, PWH, PDC, TWH, FGAS, FOIL)$$\n",
    "\n",
    "Let's get to work!\n"
   ]
  },
  {
   "cell_type": "markdown",
   "metadata": {
    "pycharm": {
     "name": "#%% md\n"
    }
   },
   "source": [
    "# Split the data into a train, validation and test set, and construct data loaders\n",
    "\n",
    "Our test set consists of the examples indexed by [2000, 2499]. Our task is to estimate `QTOT` for this period.\n",
    "\n",
    "The rest of the data is split into a train (90%) and validation set (10%). We draw the validation data randomly."
   ]
  },
  {
   "cell_type": "code",
   "execution_count": 3,
   "metadata": {
    "pycharm": {
     "name": "#%%\n"
    }
   },
   "outputs": [],
   "source": [
    "# Declare features\n",
    "INPUT_COLS = ['CHK', 'PWH', 'PDC', 'TWH', 'FGAS', 'FOIL']\n",
    "OUTPUT_COLS = ['QTOT']\n",
    "\n",
    "# Load processed data\n",
    "train_loader, x_val, y_val, val_loader, x_test, y_test = prepare_data(INPUT_COLS, OUTPUT_COLS)"
   ]
  },
  {
   "cell_type": "markdown",
   "metadata": {
    "pycharm": {
     "name": "#%% md\n"
    }
   },
   "source": [
    "# Neural network\n",
    "\n",
    "Here we specify how to construct our neural network $f_{\\theta}$. \n",
    "\n",
    "We use ReLU activation for the hidden layers:\n",
    "$$h^{(i)} = ReLU(W^{(i)} h^{(i-1)} + b^{(i)})$$\n",
    "\n",
    "The output layer is a simple linear layer since we will solve a regression problem.\n",
    "\n",
    "We use He initialization for the weights. The biases are initialized to zero."
   ]
  },
  {
   "cell_type": "code",
   "execution_count": 4,
   "metadata": {
    "pycharm": {
     "name": "#%%\n"
    }
   },
   "outputs": [],
   "source": [
    "class Net(torch.nn.Module):\n",
    "    \"\"\"\n",
    "    PyTorch offers several ways to construct neural networks.\n",
    "    Here we choose to implement the network as a Module class.\n",
    "    This gives us full control over the construction and clarifies our intentions.\n",
    "    \"\"\"\n",
    "    \n",
    "    def __init__(self, layers):\n",
    "        \"\"\"\n",
    "        Constructor of neural network\n",
    "        :param layers: list of layer widths. Note that len(layers) = network depth + 1 since we incl. the input layer.\n",
    "        \"\"\"\n",
    "        super().__init__()\n",
    "\n",
    "        self.device = 'cuda' if torch.cuda.is_available() else 'cpu'\n",
    "\n",
    "        assert len(layers) >= 2, \"At least two layers are required (incl. input and output layer)\"\n",
    "        self.layers = layers\n",
    "\n",
    "        # Fully connected linear layers\n",
    "        linear_layers = []\n",
    "\n",
    "        for i in range(len(self.layers) - 1):\n",
    "            n_in = self.layers[i]\n",
    "            n_out = self.layers[i+1]\n",
    "            layer = torch.nn.Linear(n_in, n_out)\n",
    "\n",
    "            # Initialize weights and biases\n",
    "            a = 1 if i == 0 else 2\n",
    "            layer.weight.data = torch.randn((n_out, n_in)) * sqrt(a / n_in)\n",
    "            layer.bias.data = torch.zeros(n_out)\n",
    "            \n",
    "            # Add to list\n",
    "            linear_layers.append(layer)\n",
    "        \n",
    "        # Modules/layers must be registered to enable saving of model\n",
    "        self.linear_layers = torch.nn.ModuleList(linear_layers)  \n",
    "\n",
    "        # Non-linearity (e.g. ReLU, ELU, or SELU)\n",
    "        self.act = torch.nn.ReLU(inplace=False)\n",
    "\n",
    "    def forward(self, input):\n",
    "        \"\"\"\n",
    "        Forward pass to evaluate network for input values\n",
    "        :param input: tensor assumed to be of size (batch_size, n_inputs)\n",
    "        :return: output tensor\n",
    "        \"\"\"\n",
    "        x = input\n",
    "        for l in self.linear_layers[:-1]:\n",
    "            x = l(x)\n",
    "            x = self.act(x)\n",
    "\n",
    "        output_layer = self.linear_layers[-1]\n",
    "        return output_layer(x)\n",
    "\n",
    "    def get_num_parameters(self):\n",
    "        return sum(p.numel() for p in self.parameters())\n",
    "\n",
    "    def save(self, path: str):\n",
    "        \"\"\"\n",
    "        Save model state\n",
    "        :param path: Path to save model state\n",
    "        :return: None\n",
    "        \"\"\"\n",
    "        torch.save({\n",
    "            'model_state_dict': self.state_dict(),\n",
    "        }, path)\n",
    "\n",
    "    def load(self, path: str):\n",
    "        \"\"\"\n",
    "        Load model state from file\n",
    "        :param path: Path to saved model state\n",
    "        :return: None\n",
    "        \"\"\"\n",
    "        checkpoint = torch.load(path, map_location=torch.device(\"cuda\" if torch.cuda.is_available() else \"cpu\"))\n",
    "        self.load_state_dict(checkpoint['model_state_dict'])"
   ]
  },
  {
   "cell_type": "markdown",
   "metadata": {
    "pycharm": {
     "name": "#%% md\n"
    }
   },
   "source": [
    "# Training loop\n",
    "\n",
    "Below we implement the training procedure for the neural network. \n",
    "\n",
    "We loop over batches in the dataset (one pass through the dataset is called an _epoch_).\n",
    "\n",
    "For each batch B, we do a forward pass to compute the cost function:\n",
    "$$J(\\theta) = \\frac{1}{|B|} \\sum_{i \\in B} (y_i - f_{\\theta}(x_i))^2 + \\lambda \\lVert \\theta \\rVert_2^2$$\n",
    "\n",
    "We then do a backward pass to compute the gradient:\n",
    "$$\\frac{\\partial J}{\\partial \\theta}$$\n",
    "\n",
    "Finally, we update the parameters:\n",
    "$$\\theta \\leftarrow \\theta - \\alpha \\frac{\\partial J}{\\partial \\theta}$$\n",
    "\n",
    "Note that we use Adam so the update rule is actually a bit different than the one above."
   ]
  },
  {
   "cell_type": "code",
   "execution_count": 5,
   "metadata": {},
   "outputs": [],
   "source": [
    "def train(\n",
    "        net: torch.nn.Module,\n",
    "        train_loader: DataLoader,\n",
    "        val_loader: DataLoader,\n",
    "        n_epochs: int,\n",
    "        lr: float,\n",
    "        l2_reg: float,\n",
    ") -> torch.nn.Module:\n",
    "    \"\"\"\n",
    "    Train model using mini-batch SGD\n",
    "    After each epoch, we evaluate the model on validation data\n",
    "\n",
    "    :param net: initialized neural network\n",
    "    :param train_loader: DataLoader containing training set\n",
    "    :param n_epochs: number of epochs to train\n",
    "    :param lr: learning rate (default: 0.001)\n",
    "    :param l2_reg: L2 regularization factor (default: 0)\n",
    "    :return: torch.nn.Module: trained model.\n",
    "    \"\"\"\n",
    "\n",
    "    # Define loss and optimizer\n",
    "    criterion = torch.nn.MSELoss(reduction='mean')\n",
    "    optimizer = torch.optim.Adam(net.parameters(), lr=lr)\n",
    "\n",
    "    # Train Network\n",
    "    for epoch in range(n_epochs):\n",
    "        #TODO: initialize new epoc directory\n",
    "\n",
    "        for inputs, labels in train_loader:\n",
    "            # Zero the parameter gradients (from last iteration)\n",
    "            optimizer.zero_grad()\n",
    "\n",
    "            # Forward propagation\n",
    "            outputs = net(inputs)\n",
    "            \n",
    "            # Compute cost function\n",
    "            batch_mse = criterion(outputs, labels)\n",
    "            \n",
    "            reg_loss = 0\n",
    "            for param in net.parameters():\n",
    "                reg_loss += param.pow(2).sum()\n",
    "\n",
    "            cost = batch_mse + l2_reg * reg_loss\n",
    "\n",
    "            # Backward propagation to compute gradient\n",
    "            cost.backward()\n",
    "            \n",
    "            # Update parameters using gradient\n",
    "            optimizer.step()\n",
    "        \n",
    "        # Evaluate model on validation data\n",
    "        mse_val = 0\n",
    "        for inputs, labels in val_loader:\n",
    "            mse_val += torch.sum(torch.pow(labels - net(inputs), 2)).item()\n",
    "        mse_val /= len(val_loader.dataset)\n",
    "        print(f'Epoch: {epoch + 1}: Val MSE: {mse_val}')\n",
    "\n",
    "        #TODO: Save model to epoc directory\n",
    "        #TODO: Save some other shit if not possible to calculate afterwords\n",
    "    #TODO: Save final model\n",
    "    return net"
   ]
  },
  {
   "cell_type": "markdown",
   "metadata": {},
   "source": [
    "# Construct and initialize the model\n",
    "\n",
    "The time to construct an actual neural network has finally come! \n",
    "\n",
    "Now, what should the network size be? How much data do we have? How nonlinear is the underlying function we are trying to model? Two to hidden layers with 50 units may be sufficient? Let's try that."
   ]
  },
  {
   "cell_type": "code",
   "execution_count": 6,
   "metadata": {
    "pycharm": {
     "name": "#%%\n"
    }
   },
   "outputs": [
    {
     "name": "stdout",
     "output_type": "stream",
     "text": [
      "Layers: [6, 50, 50, 1]\n",
      "Number of model parameters: 2951\n"
     ]
    }
   ],
   "source": [
    "layers = [len(INPUT_COLS), 50, 50, len(OUTPUT_COLS)]\n",
    "net = Net(layers)\n",
    "\n",
    "print(f'Layers: {layers}')\n",
    "print(f'Number of model parameters: {net.get_num_parameters()}')\n",
    "# print(6*50 + 50 + 50*50 + 50 + 50 * 1 + 1)"
   ]
  },
  {
   "cell_type": "markdown",
   "metadata": {},
   "source": [
    "# Train the model\n",
    "\n",
    "Almost there. We only need to set some important hyper-parameters before we start the training. The number of epochs to train, the learning rate, and the L2 regularization factor."
   ]
  },
  {
   "cell_type": "code",
   "execution_count": 7,
   "metadata": {},
   "outputs": [
    {
     "name": "stdout",
     "output_type": "stream",
     "text": [
      "Epoch: 1: Val MSE: 60.71314978966346\n",
      "Epoch: 2: Val MSE: 35.93435621995192\n",
      "Epoch: 3: Val MSE: 14.697877854567308\n",
      "Epoch: 4: Val MSE: 9.562464317908654\n",
      "Epoch: 5: Val MSE: 8.629805814302884\n",
      "Epoch: 6: Val MSE: 7.7899029071514425\n",
      "Epoch: 7: Val MSE: 7.162307974008414\n",
      "Epoch: 8: Val MSE: 7.143041522686298\n",
      "Epoch: 9: Val MSE: 7.046303147536058\n",
      "Epoch: 10: Val MSE: 6.8768451397235575\n",
      "Epoch: 11: Val MSE: 6.8789621206430285\n",
      "Epoch: 12: Val MSE: 6.855525090144231\n",
      "Epoch: 13: Val MSE: 6.810156719501202\n",
      "Epoch: 14: Val MSE: 6.879619422325721\n",
      "Epoch: 15: Val MSE: 7.505840594951923\n",
      "Epoch: 16: Val MSE: 6.6348045935997595\n",
      "Epoch: 17: Val MSE: 6.805615703876202\n",
      "Epoch: 18: Val MSE: 7.149059119591346\n",
      "Epoch: 19: Val MSE: 6.7161376953125\n",
      "Epoch: 20: Val MSE: 7.0682096041165865\n",
      "Epoch: 21: Val MSE: 6.57257080078125\n",
      "Epoch: 22: Val MSE: 6.853449894831731\n",
      "Epoch: 23: Val MSE: 6.45419921875\n",
      "Epoch: 24: Val MSE: 6.333028001051683\n",
      "Epoch: 25: Val MSE: 6.348884934645433\n",
      "Epoch: 26: Val MSE: 6.319796987680289\n",
      "Epoch: 27: Val MSE: 7.010949237530048\n",
      "Epoch: 28: Val MSE: 7.145115309495193\n",
      "Epoch: 29: Val MSE: 6.262477463942307\n",
      "Epoch: 30: Val MSE: 6.483449143629808\n",
      "Epoch: 31: Val MSE: 6.383821458082933\n",
      "Epoch: 32: Val MSE: 6.268295053335336\n",
      "Epoch: 33: Val MSE: 6.338403789813702\n",
      "Epoch: 34: Val MSE: 6.092922738882211\n",
      "Epoch: 35: Val MSE: 6.036591984675481\n",
      "Epoch: 36: Val MSE: 6.253540508563702\n",
      "Epoch: 37: Val MSE: 6.010813551682692\n",
      "Epoch: 38: Val MSE: 6.072638408954327\n",
      "Epoch: 39: Val MSE: 6.241341928335337\n",
      "Epoch: 40: Val MSE: 6.235273625300481\n",
      "Epoch: 41: Val MSE: 6.03912118765024\n",
      "Epoch: 42: Val MSE: 6.284917743389423\n",
      "Epoch: 43: Val MSE: 5.9495290902944715\n",
      "Epoch: 44: Val MSE: 5.872974571814904\n",
      "Epoch: 45: Val MSE: 6.2529550405649035\n",
      "Epoch: 46: Val MSE: 5.859363731971154\n",
      "Epoch: 47: Val MSE: 5.806372539813702\n",
      "Epoch: 48: Val MSE: 5.701516488882212\n",
      "Epoch: 49: Val MSE: 5.8662362905649035\n",
      "Epoch: 50: Val MSE: 5.948362849308894\n",
      "Epoch: 51: Val MSE: 5.829095928485577\n",
      "Epoch: 52: Val MSE: 5.721040696364183\n",
      "Epoch: 53: Val MSE: 6.087484036959134\n",
      "Epoch: 54: Val MSE: 5.586466627854567\n",
      "Epoch: 55: Val MSE: 5.6945828951322115\n",
      "Epoch: 56: Val MSE: 5.5819481482872595\n",
      "Epoch: 57: Val MSE: 5.845024226262019\n",
      "Epoch: 58: Val MSE: 5.46883544921875\n",
      "Epoch: 59: Val MSE: 5.465444711538462\n",
      "Epoch: 60: Val MSE: 5.668019925631009\n",
      "Epoch: 61: Val MSE: 5.965150803786058\n",
      "Epoch: 62: Val MSE: 5.404109074519231\n",
      "Epoch: 63: Val MSE: 5.366741943359375\n",
      "Epoch: 64: Val MSE: 5.644630784254808\n",
      "Epoch: 65: Val MSE: 5.46911386343149\n",
      "Epoch: 66: Val MSE: 6.21891855093149\n",
      "Epoch: 67: Val MSE: 5.3258920522836535\n",
      "Epoch: 68: Val MSE: 5.296351975661057\n",
      "Epoch: 69: Val MSE: 5.449898118239183\n",
      "Epoch: 70: Val MSE: 5.4969590407151445\n",
      "Epoch: 71: Val MSE: 5.463929161658654\n",
      "Epoch: 72: Val MSE: 5.810182542067308\n",
      "Epoch: 73: Val MSE: 5.287117356520433\n",
      "Epoch: 74: Val MSE: 5.3587538499098555\n",
      "Epoch: 75: Val MSE: 5.877939547025241\n",
      "Epoch: 76: Val MSE: 5.489673790564904\n",
      "Epoch: 77: Val MSE: 5.611227182241587\n",
      "Epoch: 78: Val MSE: 5.486030930739183\n",
      "Epoch: 79: Val MSE: 5.157791372445914\n",
      "Epoch: 80: Val MSE: 5.120384333683894\n",
      "Epoch: 81: Val MSE: 6.135301795372596\n",
      "Epoch: 82: Val MSE: 5.108848219651442\n",
      "Epoch: 83: Val MSE: 5.29349365234375\n",
      "Epoch: 84: Val MSE: 5.086848801832932\n",
      "Epoch: 85: Val MSE: 5.075752610426683\n",
      "Epoch: 86: Val MSE: 5.106781475360577\n",
      "Epoch: 87: Val MSE: 4.9965012770432695\n",
      "Epoch: 88: Val MSE: 5.052039982722356\n",
      "Epoch: 89: Val MSE: 5.10802987905649\n",
      "Epoch: 90: Val MSE: 5.1768465482271635\n",
      "Epoch: 91: Val MSE: 5.415950364332932\n",
      "Epoch: 92: Val MSE: 5.349344106820913\n",
      "Epoch: 93: Val MSE: 5.0149587777944715\n",
      "Epoch: 94: Val MSE: 5.014336688701923\n",
      "Epoch: 95: Val MSE: 5.042958420973558\n",
      "Epoch: 96: Val MSE: 5.624796236478366\n",
      "Epoch: 97: Val MSE: 4.947003173828125\n",
      "Epoch: 98: Val MSE: 4.8656419020432695\n",
      "Epoch: 99: Val MSE: 5.030155592698318\n",
      "Epoch: 100: Val MSE: 5.227385066105769\n"
     ]
    }
   ],
   "source": [
    "n_epochs = 100\n",
    "lr = 0.001\n",
    "l2_reg = 0.001  # 10\n",
    "net = train(net, train_loader, val_loader, n_epochs, lr, l2_reg)"
   ]
  },
  {
   "cell_type": "markdown",
   "metadata": {
    "pycharm": {
     "name": "#%% md\n"
    }
   },
   "source": [
    "# Evaluate the model on validation data"
   ]
  },
  {
   "cell_type": "code",
   "execution_count": 8,
   "metadata": {
    "pycharm": {
     "name": "#%%\n"
    }
   },
   "outputs": [
    {
     "name": "stdout",
     "output_type": "stream",
     "text": [
      "Error on validation data\n",
      "MSE: 5.2273850440979\n",
      "MAE: 1.6862919330596924\n",
      "MAPE: 6.6564178466796875 %\n"
     ]
    }
   ],
   "source": [
    "# Predict on validation data\n",
    "pred_val = net(x_val)\n",
    "\n",
    "# Compute MSE, MAE and MAPE on validation data\n",
    "print('Error on validation data')\n",
    "\n",
    "mse_val = torch.mean(torch.pow(pred_val - y_val, 2))\n",
    "print(f'MSE: {mse_val.item()}')\n",
    "\n",
    "mae_val = torch.mean(torch.abs(pred_val - y_val))\n",
    "print(f'MAE: {mae_val.item()}')\n",
    "\n",
    "mape_val = 100*torch.mean(torch.abs(torch.div(pred_val - y_val, y_val)))\n",
    "print(f'MAPE: {mape_val.item()} %')"
   ]
  },
  {
   "cell_type": "markdown",
   "metadata": {},
   "source": [
    "# Are you happy with the result? \n",
    "\n",
    "Remember that the validation error is just an estimate of the test error (the error on new examples). The test error may be higher or lower. We may proceed if we believe that we have a good validation set and the validation error is sufficiently low.\n",
    "\n",
    "If we wish to proceed, a final step before we produce our estimates would be to re-train the model on both the train and validation data. We will skip this step for now.\n",
    "\n",
    "Let's see how well we did!"
   ]
  },
  {
   "cell_type": "markdown",
   "metadata": {
    "pycharm": {
     "name": "#%% md\n"
    }
   },
   "source": [
    "# Evaluate the model on test data"
   ]
  },
  {
   "cell_type": "code",
   "execution_count": 9,
   "metadata": {
    "pycharm": {
     "name": "#%%\n"
    }
   },
   "outputs": [
    {
     "name": "stdout",
     "output_type": "stream",
     "text": [
      "Error on test data\n",
      "MSE: 1.9076869487762451\n",
      "MAE: 0.9811860918998718\n",
      "MAPE: 3.1949329376220703 %\n"
     ]
    }
   ],
   "source": [
    "# Make prediction\n",
    "pred_test = net(x_test)\n",
    "\n",
    "# Compute MSE, MAE and MAPE on test data\n",
    "print('Error on test data')\n",
    "\n",
    "mse_test = torch.mean(torch.pow(pred_test - y_test, 2))\n",
    "print(f'MSE: {mse_test.item()}')\n",
    "\n",
    "mae_test = torch.mean(torch.abs(pred_test - y_test))\n",
    "print(f'MAE: {mae_test.item()}')\n",
    "\n",
    "mape_test = 100*torch.mean(torch.abs(torch.div(pred_test - y_test, y_test)))\n",
    "print(f'MAPE: {mape_test.item()} %')"
   ]
  },
  {
   "cell_type": "markdown",
   "metadata": {
    "pycharm": {
     "name": "#%% md\n"
    }
   },
   "source": [
    "# Visual evaluation"
   ]
  },
  {
   "cell_type": "code",
   "execution_count": 10,
   "metadata": {
    "pycharm": {
     "name": "#%%\n"
    }
   },
   "outputs": [
    {
     "data": {
      "text/plain": [
       "<matplotlib.legend.Legend at 0x7fac0110bc10>"
      ]
     },
     "execution_count": 10,
     "metadata": {},
     "output_type": "execute_result"
    },
    {
     "data": {
      "image/png": "[encoded data removed]",
      "text/plain": [
       "<Figure size 1152x648 with 1 Axes>"
      ]
     },
     "metadata": {
      "needs_background": "light"
     },
     "output_type": "display_data"
    }
   ],
   "source": [
    "plt.figure(figsize=(16, 9))\n",
    "plt.plot(y_test.numpy(), label='Missing QTOT')\n",
    "plt.plot(pred_test.detach().numpy(), label='Estimated QTOT')\n",
    "plt.legend()"
   ]
  },
  {
   "cell_type": "markdown",
   "metadata": {},
   "source": [
    "# That's pretty good! \n",
    "\n",
    "But this is only the beginning. We have only set up the framework. Now you can be creative and experiment with different architectures, regularization techniques and hyper-parameters. I challenge you not to keep staring at those training curves as you wait for the result of a cool new idea - I am still hypnotized by them :-)"
   ]
  }
 ],
 "metadata": {
  "kernelspec": {
   "display_name": "Python 3 (ipykernel)",
   "language": "python",
   "name": "python3"
  },
  "language_info": {
   "codemirror_mode": {
    "name": "ipython",
    "version": 3
   },
   "file_extension": ".py",
   "mimetype": "text/x-python",
   "name": "python",
   "nbconvert_exporter": "python",
   "pygments_lexer": "ipython3",
   "version": "3.8.12"
  }
 },
 "nbformat": 4,
 "nbformat_minor": 1
}