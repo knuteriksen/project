{
 "cells": [
  {
   "cell_type": "markdown",
   "metadata": {},
   "source": [
    "# Imports"
   ]
  },
  {
   "cell_type": "code",
   "execution_count": null,
   "metadata": {
    "pycharm": {
     "name": "#%%\n"
    }
   },
   "outputs": [],
   "source": [
    "import os\n",
    "\n",
    "import matplotlib.pyplot as plt\n",
    "import pandas as pd\n",
    "import numpy as np\n",
    "import seaborn as sns\n",
    "\n",
    "from matplotlib.lines import Line2D"
   ]
  },
  {
   "cell_type": "code",
   "execution_count": null,
   "metadata": {},
   "outputs": [],
   "source": [
    "path_to_run_results = \"/home/knut/Documents/project/UnseededRun_results\"\n",
    "path_to_plots = \"/home/knut/Documents/project/UnseededRun_results/plots\"\n",
    "runs = []\n",
    "\n",
    "for i in range(1, 6):\n",
    "    p1 = os.path.join(path_to_run_results, \"run\" + str(i))\n",
    "    p2 = os.path.join(path_to_run_results, \"rs\" + str(i))\n",
    "    runs.append((p1, p2))"
   ]
  },
  {
   "cell_type": "code",
   "execution_count": null,
   "metadata": {},
   "outputs": [],
   "source": [
    "def get_convergence_data(df):\n",
    "    i = 0\n",
    "    plot_data = []\n",
    "    for index, row in df.iterrows():\n",
    "        if i > 14:\n",
    "            break\n",
    "        i += 1\n",
    "        data = {}\n",
    "        for j in range(100):\n",
    "            if j == 0:\n",
    "                data[j] = row[j]\n",
    "            else:\n",
    "                if row[j] < data[j - 1]:\n",
    "                    data[j] = row[j]\n",
    "                else:\n",
    "                    data[j] = data[j - 1]\n",
    "        plot_data.append(data)\n",
    "    return plot_data    "
   ]
  },
  {
   "cell_type": "code",
   "execution_count": null,
   "metadata": {},
   "outputs": [],
   "source": [
    "def make_mean_plot(bo_mean, bo_std, rs_mean, rs_std, name, h_str):\n",
    "\n",
    "    fig, axis = plt.subplots(figsize=(6, 8))\n",
    "    steps = 100\n",
    "\n",
    "    x = np.linspace(0, 99, 100)\n",
    "\n",
    "    axis.plot(bo_mean, color='C0', label='BO')\n",
    "    \"\"\"\n",
    "    axis.fill(np.concatenate([x, x[::-1]]),\n",
    "              np.concatenate([bo_mean - 1.9600 * bo_std, (bo_mean + 1.9600 * bo_std)[::-1]]),\n",
    "              alpha=.2, fc='C0', ec='None', label='95% confidence interval')\n",
    "    \"\"\"\n",
    "    axis.plot(rs_mean, color='C1', label='RS')\n",
    "    \"\"\"\n",
    "    axis.fill(np.concatenate([x, x[::-1]]),\n",
    "              np.concatenate([rs_mean - 1.9600 * rs_std, (rs_mean + 1.9600 * rs_std)[::-1]]),\n",
    "              alpha=.2, fc='C1', ec='None', label='95% confidence interval')\n",
    "    \"\"\"\n",
    "    \n",
    "    axis.set_ylabel('MSE', fontdict={'size':16})\n",
    "    axis.set_xlabel('Trials', fontdict={'size':16})\n",
    "    \n",
    "    axis.legend(loc=\"upper right\")\n",
    "    plt.title(f'Optimizing {str(i+1)} {h_str}', fontsize=18)\n",
    "    \n",
    "    axis.set_ylim((bo_mean[99]-0.5, rs_mean[99]+2))\n",
    "    #plt.yscale(\"log\")\n",
    "    plt.grid()\n",
    "    plt.savefig(name, bbox_inches='tight')"
   ]
  },
  {
   "cell_type": "code",
   "execution_count": null,
   "metadata": {},
   "outputs": [],
   "source": [
    "def make_all_plot(bo_df, bo_mean, rs_df, rs_mean, name, h_str):    \n",
    "    fig, axis = plt.subplots(figsize=(6, 8))\n",
    "    axis.set_ylabel('MSE', fontdict={'size':16})\n",
    "    axis.set_xlabel('Trials', fontdict={'size':16})\n",
    "    \n",
    "    bo_head = bo_df.head(15).transpose()\n",
    "    rs_head = rs_df.head(15).transpose()\n",
    "    \n",
    "    min_lim = min(bo_head.loc[99].min(), rs_head.loc[99].min())\n",
    "    max_lim = max(bo_head.loc[99].max(), rs_head.loc[99].max())\n",
    "    \n",
    "    if max_lim-min_lim > 10:\n",
    "        min_lim = bo_mean[99] - 0.2*bo_df.loc[\"std\", 99]\n",
    "        max_lim = bo_mean[99] + 0.75*bo_df.loc[\"std\", 99]\n",
    "    axis.set_ylim(min_lim, max_lim)\n",
    "    \n",
    "    plt.title(f'Optimizing {str(i+1)} {h_str}', fontsize=18)\n",
    "    #plt.yscale(\"log\")\n",
    "    bo_head.plot(ax=axis, color='C0', alpha=0.2)\n",
    "    rs_head.plot(ax=axis, color='C1', alpha=0.2)\n",
    "    axis.plot(bo_mean, color='C0')\n",
    "    axis.plot(rs_mean, color='C1')\n",
    "    custom_lines = [Line2D([0], [0], color='C0', lw=2),\n",
    "                Line2D([0], [0], color='C1', lw=2)]\n",
    "\n",
    "    axis.legend(custom_lines, [\"BO\", \"RS\"], loc=\"lower left\")\n",
    "    plt.grid()\n",
    "    plt.savefig(name, bbox_inches='tight')\n",
    "    "
   ]
  },
  {
   "cell_type": "code",
   "execution_count": null,
   "metadata": {},
   "outputs": [],
   "source": [
    "def make_violin_plot(df, name, h_str):\n",
    "    ax = sns.catplot(x=\"search\", y=\"mean\", kind=\"violin\", col=\"space\", data=df, inner=\"box\")\n",
    "    plt.ylabel('MSE', fontsize=16)\n",
    "    plt.xlabel('Optimization Algorithm', fontsize=16)\n",
    "    plt.title(f'Optimizing {str(i+1)} {h_str}', fontsize=18)\n",
    "    plt.grid()\n",
    "    plt.savefig(name, bbox_inches='tight')"
   ]
  },
  {
   "cell_type": "code",
   "execution_count": null,
   "metadata": {
    "scrolled": false
   },
   "outputs": [],
   "source": [
    "configs = [\"config.csv\", \"no_val_config.csv\", \"train_val_config.csv\"]\n",
    "results = [\"results.csv\", \"no_val_results.csv\", \"train_val_results.csv\"]\n",
    "names = [\"full_batch_\", \"no_val_\", \"batch_\"]\n",
    "\n",
    "for i, (bo_path, rs_path) in enumerate(runs):\n",
    "    \n",
    "    for j in range(len(configs)):\n",
    "        final = []\n",
    "        search = []\n",
    "        space = []\n",
    "        #print(f'BO: {bo_path} ||| RS: {rs_path}')\n",
    "        bo_csv = os.path.join(bo_path, results[j])\n",
    "        rs_csv = os.path.join(rs_path, results[j])\n",
    "        bo_config_csv = os.path.join(bo_path, configs[j])\n",
    "        rs_config_csv = os.path.join(rs_path, configs[j])\n",
    "\n",
    "        bo_df = pd.read_csv(bo_csv, index_col=0)\n",
    "        rs_df = pd.read_csv(rs_csv, index_col=0)\n",
    "        bo_config_df = pd.read_csv(bo_config_csv, index_col=0)\n",
    "        rs_config_df = pd.read_csv(rs_config_csv, index_col=0)\n",
    "\n",
    "        bo_df = pd.DataFrame(get_convergence_data(bo_df))\n",
    "        bo_max = bo_df.to_numpy().max()\n",
    "        bo_min = bo_df.to_numpy().min()\n",
    "        bo_mean = bo_df.mean(axis=0)\n",
    "        bo_var = bo_df.var(axis=0)\n",
    "        bo_std = bo_df.std(axis=0)\n",
    "\n",
    "        bo_df.loc[\"mean\"] = bo_mean\n",
    "        bo_df.loc[\"var\"] = bo_var\n",
    "        bo_df.loc[\"std\"] = bo_std\n",
    "\n",
    "        final = final + (bo_df.head(15).loc[:, 99].to_numpy().tolist())\n",
    "        search = search + [\"BO\"]*15\n",
    "        space = space + [i+1]*15\n",
    "\n",
    "\n",
    "        rs_df = pd.DataFrame(get_convergence_data(rs_df))\n",
    "        rs_max = rs_df.to_numpy().max()\n",
    "        rs_min = rs_df.to_numpy().min()\n",
    "        rs_mean = rs_df.mean(axis=0)\n",
    "        rs_var = rs_df.var(axis=0)\n",
    "        rs_std = rs_df.std(axis=0)\n",
    "        \n",
    "        \"\"\"\n",
    "        if names[j] == \"batch_\":\n",
    "            print(f'BO mean {bo_mean[99]} - BO var {bo_var[99]}')\n",
    "            print(f'RS mean {rs_mean[99]} - RS var {rs_var[99]}')\n",
    "        \"\"\"\n",
    "        rs_df.loc[\"mean\"] = rs_mean\n",
    "        rs_df.loc[\"var\"] = rs_var\n",
    "        rs_df.loc[\"std\"] = rs_std\n",
    "\n",
    "        final = final + (rs_df.head(15).loc[:, 99].to_numpy().tolist())\n",
    "        search = search + [\"RS\"]*15\n",
    "        space = space + [i+1]*15\n",
    "\n",
    "        h_str = \"Hyperparameters\" if i > 0 else \"Hyperparameter\"\n",
    "\n",
    "        name = os.path.join(path_to_plots, names[j]+\"run\"+str(i+1)+\".pdf\")\n",
    "        make_mean_plot(bo_mean, bo_std, rs_mean, rs_std, name, h_str)\n",
    "\n",
    "        name = os.path.join(path_to_plots, names[j]+\"run\"+str(i+1)+\"_all.pdf\")\n",
    "        make_all_plot(bo_df, bo_mean, rs_df, rs_mean, name, h_str)\n",
    "\n",
    "        d = {\"mean\": final, \"search\": search, \"space\": space}\n",
    "        df = pd.DataFrame(data=d)\n",
    "        name = os.path.join(path_to_plots, names[j]+\"run\"+str(i+1)+\"_violin.pdf\")\n",
    "        make_violin_plot(df, name, h_str)"
   ]
  },
  {
   "cell_type": "code",
   "execution_count": null,
   "metadata": {},
   "outputs": [],
   "source": [
    "  \n",
    "    "
   ]
  }
 ],
 "metadata": {
  "kernelspec": {
   "display_name": "Python 3 (ipykernel)",
   "language": "python",
   "name": "python3"
  },
  "language_info": {
   "codemirror_mode": {
    "name": "ipython",
    "version": 3
   },
   "file_extension": ".py",
   "mimetype": "text/x-python",
   "name": "python",
   "nbconvert_exporter": "python",
   "pygments_lexer": "ipython3",
   "version": "3.8.2"
  }
 },
 "nbformat": 4,
 "nbformat_minor": 1
}
