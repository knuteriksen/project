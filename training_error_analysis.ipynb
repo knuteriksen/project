{
 "cells": [
  {
   "cell_type": "markdown",
   "metadata": {
    "collapsed": true,
    "pycharm": {
     "name": "#%% md\n"
    }
   },
   "source": [
    "# Imports"
   ]
  },
  {
   "cell_type": "code",
   "execution_count": null,
   "metadata": {
    "pycharm": {
     "name": "#%%\n"
    }
   },
   "outputs": [],
   "source": [
    "import os\n",
    "\n",
    "import pandas as pd\n",
    "import progressbar\n",
    "from ray.tune import Analysis\n",
    "\n",
    "from rayTune_common.constants import metric, mode\n",
    "from rayTune_common.utils import config_to_model"
   ]
  },
  {
   "cell_type": "markdown",
   "metadata": {},
   "source": [
    "# Analyze ray tune logs"
   ]
  },
  {
   "cell_type": "code",
   "execution_count": null,
   "metadata": {
    "pycharm": {
     "name": "#%%\n"
    }
   },
   "outputs": [],
   "source": [
    "from rayTune_common.test import test_training_error\n",
    "\n",
    "path_to_run_results = \"/home/knut/Documents/project/UnseededRun_results\"\n",
    "list_runs = [f.path for f in os.scandir(path_to_run_results) if f.is_dir()]\n",
    "bar = progressbar.ProgressBar(maxval=10 * 15 * 100,\n",
    "                              widgets=[progressbar.Bar('=', '[', ']'), ' ', progressbar.Percentage()])\n",
    "bar.start()\n",
    "prog = 0\n",
    "for path_to_run in list_runs:\n",
    "    data = []\n",
    "    path_to_csv = os.path.join(path_to_run, \"train_error.csv\")\n",
    "\n",
    "    list_experiments = [f.path for f in os.scandir(path_to_run) if f.is_dir()]\n",
    "    list_experiments.sort(key=lambda x: x.split(\"_\")[-1])\n",
    "\n",
    "    for experient_number, path_to_experiment in enumerate(list_experiments):\n",
    "        experiment_data = {}\n",
    "\n",
    "        list_experiment_trials = [f.path for f in os.scandir(path_to_experiment) if f.is_dir()]\n",
    "        list_experiment_trials.sort(key=lambda x: int(x.split(\"_\")[4]))\n",
    "\n",
    "        for trial_number, path_to_trial in enumerate(list_experiment_trials):\n",
    "            list_trial_checkpoints = [f.path for f in os.scandir(path_to_trial) if f.is_dir()]\n",
    "            list_trial_checkpoints.sort(key=lambda x: int(x.split(\"_\")[-1]))\n",
    "\n",
    "            trial_checkpoint_path = os.path.join(list_trial_checkpoints[-1], \"checkpoint\")\n",
    "\n",
    "            trial_analysis = Analysis(path_to_trial, default_metric=metric, default_mode=mode)\n",
    "            trial_config = trial_analysis.get_best_config(metric=metric, mode=mode)\n",
    "\n",
    "            trial_model = config_to_model(config=trial_config, checkpoint_path=trial_checkpoint_path)\n",
    "\n",
    "            trial_mse = test_training_error(model=trial_model, batch_size=64)\n",
    "            experiment_data[trial_number] = trial_mse\n",
    "\n",
    "            bar.update(prog + 1)\n",
    "            prog += 1\n",
    "\n",
    "        sorted_experiment_data = dict(sorted(experiment_data.items()))\n",
    "        data.append(sorted_experiment_data)\n",
    "\n",
    "    # Convert into pandas dataframe\n",
    "    df = pd.DataFrame(data)\n",
    "\n",
    "    # Add mean and variance to test results\n",
    "    df[\"best\"] = df.min(axis=1)\n",
    "    mean = df.mean(axis=0)\n",
    "    var = df.var(axis=0)\n",
    "    std = df.std(axis=0)\n",
    "    df.loc[\"mean\"] = mean\n",
    "    df.loc[\"var\"] = var\n",
    "    df.loc[\"std\"] = std\n",
    "\n",
    "    # Store dataframes as csv\n",
    "    df.to_csv(path_to_csv)\n",
    "\n",
    "bar.finish()"
   ]
  }
 ],
 "metadata": {
  "kernelspec": {
   "display_name": "Python 3 (ipykernel)",
   "language": "python",
   "name": "python3"
  },
  "language_info": {
   "codemirror_mode": {
    "name": "ipython",
    "version": 3
   },
   "file_extension": ".py",
   "mimetype": "text/x-python",
   "name": "python",
   "nbconvert_exporter": "python",
   "pygments_lexer": "ipython3",
   "version": "3.8.2"
  }
 },
 "nbformat": 4,
 "nbformat_minor": 1
}
